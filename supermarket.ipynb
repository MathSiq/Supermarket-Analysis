{
 "cells": [
  {
   "cell_type": "markdown",
   "id": "dc96a66a",
   "metadata": {},
   "source": [
    "### Análise de um dataframe de um supermarket com suas filias. \n",
    "\n",
    "O  dataframe consiste em ID do produto, o vendedor, a cidade, o tipo de cliente, gênero, linha de produto, preço unitário, quantidade vendida, quanto ficou a taxa de 5%, quantidade de vendas, a data, o tempo, formar de pagamento, cogs, margem de porcentagem do gross e a nota do usúario. \n",
    "\n",
    "O objetivo é destrinchar as informações para pegar as melhores opções e visualizar os dados. Levando em conta o tempo e a métricas financeiras."
   ]
  },
  {
   "cell_type": "markdown",
   "id": "de7bf0f5",
   "metadata": {},
   "source": [
    "Importação das bibliotecas utilizadas."
   ]
  },
  {
   "cell_type": "code",
   "execution_count": 1,
   "id": "cd5d6a0c",
   "metadata": {},
   "outputs": [],
   "source": [
    "import pandas as pd\n",
    "import matplotlib.pyplot as plt"
   ]
  },
  {
   "cell_type": "markdown",
   "id": "08b6a00d",
   "metadata": {},
   "source": [
    "Leitura e correção da base de dados. Arredondando os valores quebrados."
   ]
  },
  {
   "cell_type": "code",
   "execution_count": 2,
   "id": "079eda35",
   "metadata": {},
   "outputs": [
    {
     "data": {
      "text/html": [
       "<div>\n",
       "<style scoped>\n",
       "    .dataframe tbody tr th:only-of-type {\n",
       "        vertical-align: middle;\n",
       "    }\n",
       "\n",
       "    .dataframe tbody tr th {\n",
       "        vertical-align: top;\n",
       "    }\n",
       "\n",
       "    .dataframe thead th {\n",
       "        text-align: right;\n",
       "    }\n",
       "</style>\n",
       "<table border=\"1\" class=\"dataframe\">\n",
       "  <thead>\n",
       "    <tr style=\"text-align: right;\">\n",
       "      <th></th>\n",
       "      <th>Invoice ID</th>\n",
       "      <th>Branch</th>\n",
       "      <th>City</th>\n",
       "      <th>Customer type</th>\n",
       "      <th>Gender</th>\n",
       "      <th>Product line</th>\n",
       "      <th>Unit price</th>\n",
       "      <th>Quantity</th>\n",
       "      <th>Tax 5%</th>\n",
       "      <th>Sales</th>\n",
       "      <th>Date</th>\n",
       "      <th>Time</th>\n",
       "      <th>Payment</th>\n",
       "      <th>cogs</th>\n",
       "      <th>gross margin percentage</th>\n",
       "      <th>gross income</th>\n",
       "      <th>Rating</th>\n",
       "    </tr>\n",
       "  </thead>\n",
       "  <tbody>\n",
       "    <tr>\n",
       "      <th>0</th>\n",
       "      <td>750-67-8428</td>\n",
       "      <td>Alex</td>\n",
       "      <td>Yangon</td>\n",
       "      <td>Member</td>\n",
       "      <td>Female</td>\n",
       "      <td>Health and beauty</td>\n",
       "      <td>74.69</td>\n",
       "      <td>7</td>\n",
       "      <td>26.14</td>\n",
       "      <td>548.97</td>\n",
       "      <td>1/5/2019</td>\n",
       "      <td>1:08:00 PM</td>\n",
       "      <td>Ewallet</td>\n",
       "      <td>522.83</td>\n",
       "      <td>4.76</td>\n",
       "      <td>26.14</td>\n",
       "      <td>9.1</td>\n",
       "    </tr>\n",
       "    <tr>\n",
       "      <th>1</th>\n",
       "      <td>226-31-3081</td>\n",
       "      <td>Giza</td>\n",
       "      <td>Naypyitaw</td>\n",
       "      <td>Normal</td>\n",
       "      <td>Female</td>\n",
       "      <td>Electronic accessories</td>\n",
       "      <td>15.28</td>\n",
       "      <td>5</td>\n",
       "      <td>3.82</td>\n",
       "      <td>80.22</td>\n",
       "      <td>3/8/2019</td>\n",
       "      <td>10:29:00 AM</td>\n",
       "      <td>Cash</td>\n",
       "      <td>76.40</td>\n",
       "      <td>4.76</td>\n",
       "      <td>3.82</td>\n",
       "      <td>9.6</td>\n",
       "    </tr>\n",
       "    <tr>\n",
       "      <th>2</th>\n",
       "      <td>631-41-3108</td>\n",
       "      <td>Alex</td>\n",
       "      <td>Yangon</td>\n",
       "      <td>Normal</td>\n",
       "      <td>Female</td>\n",
       "      <td>Home and lifestyle</td>\n",
       "      <td>46.33</td>\n",
       "      <td>7</td>\n",
       "      <td>16.22</td>\n",
       "      <td>340.53</td>\n",
       "      <td>3/3/2019</td>\n",
       "      <td>1:23:00 PM</td>\n",
       "      <td>Credit card</td>\n",
       "      <td>324.31</td>\n",
       "      <td>4.76</td>\n",
       "      <td>16.22</td>\n",
       "      <td>7.4</td>\n",
       "    </tr>\n",
       "    <tr>\n",
       "      <th>3</th>\n",
       "      <td>123-19-1176</td>\n",
       "      <td>Alex</td>\n",
       "      <td>Yangon</td>\n",
       "      <td>Member</td>\n",
       "      <td>Female</td>\n",
       "      <td>Health and beauty</td>\n",
       "      <td>58.22</td>\n",
       "      <td>8</td>\n",
       "      <td>23.29</td>\n",
       "      <td>489.05</td>\n",
       "      <td>1/27/2019</td>\n",
       "      <td>8:33:00 PM</td>\n",
       "      <td>Ewallet</td>\n",
       "      <td>465.76</td>\n",
       "      <td>4.76</td>\n",
       "      <td>23.29</td>\n",
       "      <td>8.4</td>\n",
       "    </tr>\n",
       "    <tr>\n",
       "      <th>4</th>\n",
       "      <td>373-73-7910</td>\n",
       "      <td>Alex</td>\n",
       "      <td>Yangon</td>\n",
       "      <td>Member</td>\n",
       "      <td>Female</td>\n",
       "      <td>Sports and travel</td>\n",
       "      <td>86.31</td>\n",
       "      <td>7</td>\n",
       "      <td>30.21</td>\n",
       "      <td>634.38</td>\n",
       "      <td>2/8/2019</td>\n",
       "      <td>10:37:00 AM</td>\n",
       "      <td>Ewallet</td>\n",
       "      <td>604.17</td>\n",
       "      <td>4.76</td>\n",
       "      <td>30.21</td>\n",
       "      <td>5.3</td>\n",
       "    </tr>\n",
       "    <tr>\n",
       "      <th>...</th>\n",
       "      <td>...</td>\n",
       "      <td>...</td>\n",
       "      <td>...</td>\n",
       "      <td>...</td>\n",
       "      <td>...</td>\n",
       "      <td>...</td>\n",
       "      <td>...</td>\n",
       "      <td>...</td>\n",
       "      <td>...</td>\n",
       "      <td>...</td>\n",
       "      <td>...</td>\n",
       "      <td>...</td>\n",
       "      <td>...</td>\n",
       "      <td>...</td>\n",
       "      <td>...</td>\n",
       "      <td>...</td>\n",
       "      <td>...</td>\n",
       "    </tr>\n",
       "    <tr>\n",
       "      <th>995</th>\n",
       "      <td>233-67-5758</td>\n",
       "      <td>Giza</td>\n",
       "      <td>Naypyitaw</td>\n",
       "      <td>Normal</td>\n",
       "      <td>Male</td>\n",
       "      <td>Health and beauty</td>\n",
       "      <td>40.35</td>\n",
       "      <td>1</td>\n",
       "      <td>2.02</td>\n",
       "      <td>42.37</td>\n",
       "      <td>1/29/2019</td>\n",
       "      <td>1:46:00 PM</td>\n",
       "      <td>Ewallet</td>\n",
       "      <td>40.35</td>\n",
       "      <td>4.76</td>\n",
       "      <td>2.02</td>\n",
       "      <td>6.2</td>\n",
       "    </tr>\n",
       "    <tr>\n",
       "      <th>996</th>\n",
       "      <td>303-96-2227</td>\n",
       "      <td>Cairo</td>\n",
       "      <td>Mandalay</td>\n",
       "      <td>Normal</td>\n",
       "      <td>Female</td>\n",
       "      <td>Home and lifestyle</td>\n",
       "      <td>97.38</td>\n",
       "      <td>10</td>\n",
       "      <td>48.69</td>\n",
       "      <td>1022.49</td>\n",
       "      <td>3/2/2019</td>\n",
       "      <td>5:16:00 PM</td>\n",
       "      <td>Ewallet</td>\n",
       "      <td>973.80</td>\n",
       "      <td>4.76</td>\n",
       "      <td>48.69</td>\n",
       "      <td>4.4</td>\n",
       "    </tr>\n",
       "    <tr>\n",
       "      <th>997</th>\n",
       "      <td>727-02-1313</td>\n",
       "      <td>Alex</td>\n",
       "      <td>Yangon</td>\n",
       "      <td>Member</td>\n",
       "      <td>Male</td>\n",
       "      <td>Food and beverages</td>\n",
       "      <td>31.84</td>\n",
       "      <td>1</td>\n",
       "      <td>1.59</td>\n",
       "      <td>33.43</td>\n",
       "      <td>2/9/2019</td>\n",
       "      <td>1:22:00 PM</td>\n",
       "      <td>Cash</td>\n",
       "      <td>31.84</td>\n",
       "      <td>4.76</td>\n",
       "      <td>1.59</td>\n",
       "      <td>7.7</td>\n",
       "    </tr>\n",
       "    <tr>\n",
       "      <th>998</th>\n",
       "      <td>347-56-2442</td>\n",
       "      <td>Alex</td>\n",
       "      <td>Yangon</td>\n",
       "      <td>Normal</td>\n",
       "      <td>Male</td>\n",
       "      <td>Home and lifestyle</td>\n",
       "      <td>65.82</td>\n",
       "      <td>1</td>\n",
       "      <td>3.29</td>\n",
       "      <td>69.11</td>\n",
       "      <td>2/22/2019</td>\n",
       "      <td>3:33:00 PM</td>\n",
       "      <td>Cash</td>\n",
       "      <td>65.82</td>\n",
       "      <td>4.76</td>\n",
       "      <td>3.29</td>\n",
       "      <td>4.1</td>\n",
       "    </tr>\n",
       "    <tr>\n",
       "      <th>999</th>\n",
       "      <td>849-09-3807</td>\n",
       "      <td>Alex</td>\n",
       "      <td>Yangon</td>\n",
       "      <td>Member</td>\n",
       "      <td>Female</td>\n",
       "      <td>Fashion accessories</td>\n",
       "      <td>88.34</td>\n",
       "      <td>7</td>\n",
       "      <td>30.92</td>\n",
       "      <td>649.30</td>\n",
       "      <td>2/18/2019</td>\n",
       "      <td>1:28:00 PM</td>\n",
       "      <td>Cash</td>\n",
       "      <td>618.38</td>\n",
       "      <td>4.76</td>\n",
       "      <td>30.92</td>\n",
       "      <td>6.6</td>\n",
       "    </tr>\n",
       "  </tbody>\n",
       "</table>\n",
       "<p>1000 rows × 17 columns</p>\n",
       "</div>"
      ],
      "text/plain": [
       "      Invoice ID Branch       City Customer type  Gender  \\\n",
       "0    750-67-8428   Alex     Yangon        Member  Female   \n",
       "1    226-31-3081   Giza  Naypyitaw        Normal  Female   \n",
       "2    631-41-3108   Alex     Yangon        Normal  Female   \n",
       "3    123-19-1176   Alex     Yangon        Member  Female   \n",
       "4    373-73-7910   Alex     Yangon        Member  Female   \n",
       "..           ...    ...        ...           ...     ...   \n",
       "995  233-67-5758   Giza  Naypyitaw        Normal    Male   \n",
       "996  303-96-2227  Cairo   Mandalay        Normal  Female   \n",
       "997  727-02-1313   Alex     Yangon        Member    Male   \n",
       "998  347-56-2442   Alex     Yangon        Normal    Male   \n",
       "999  849-09-3807   Alex     Yangon        Member  Female   \n",
       "\n",
       "               Product line  Unit price  Quantity  Tax 5%    Sales       Date  \\\n",
       "0         Health and beauty       74.69         7   26.14   548.97   1/5/2019   \n",
       "1    Electronic accessories       15.28         5    3.82    80.22   3/8/2019   \n",
       "2        Home and lifestyle       46.33         7   16.22   340.53   3/3/2019   \n",
       "3         Health and beauty       58.22         8   23.29   489.05  1/27/2019   \n",
       "4         Sports and travel       86.31         7   30.21   634.38   2/8/2019   \n",
       "..                      ...         ...       ...     ...      ...        ...   \n",
       "995       Health and beauty       40.35         1    2.02    42.37  1/29/2019   \n",
       "996      Home and lifestyle       97.38        10   48.69  1022.49   3/2/2019   \n",
       "997      Food and beverages       31.84         1    1.59    33.43   2/9/2019   \n",
       "998      Home and lifestyle       65.82         1    3.29    69.11  2/22/2019   \n",
       "999     Fashion accessories       88.34         7   30.92   649.30  2/18/2019   \n",
       "\n",
       "            Time      Payment    cogs  gross margin percentage  gross income  \\\n",
       "0     1:08:00 PM      Ewallet  522.83                     4.76         26.14   \n",
       "1    10:29:00 AM         Cash   76.40                     4.76          3.82   \n",
       "2     1:23:00 PM  Credit card  324.31                     4.76         16.22   \n",
       "3     8:33:00 PM      Ewallet  465.76                     4.76         23.29   \n",
       "4    10:37:00 AM      Ewallet  604.17                     4.76         30.21   \n",
       "..           ...          ...     ...                      ...           ...   \n",
       "995   1:46:00 PM      Ewallet   40.35                     4.76          2.02   \n",
       "996   5:16:00 PM      Ewallet  973.80                     4.76         48.69   \n",
       "997   1:22:00 PM         Cash   31.84                     4.76          1.59   \n",
       "998   3:33:00 PM         Cash   65.82                     4.76          3.29   \n",
       "999   1:28:00 PM         Cash  618.38                     4.76         30.92   \n",
       "\n",
       "     Rating  \n",
       "0       9.1  \n",
       "1       9.6  \n",
       "2       7.4  \n",
       "3       8.4  \n",
       "4       5.3  \n",
       "..      ...  \n",
       "995     6.2  \n",
       "996     4.4  \n",
       "997     7.7  \n",
       "998     4.1  \n",
       "999     6.6  \n",
       "\n",
       "[1000 rows x 17 columns]"
      ]
     },
     "execution_count": 2,
     "metadata": {},
     "output_type": "execute_result"
    }
   ],
   "source": [
    "supermarket_df = pd.read_csv('SuperMarket Analysis.csv')\n",
    "supermarket_df = supermarket_df.round(2)\n",
    "supermarket_df"
   ]
  },
  {
   "cell_type": "markdown",
   "id": "207cbac4",
   "metadata": {},
   "source": [
    "O DF não apresentou nenhum número vazio, facilitando a exploração dos dados. Evitando a limpeza profunda."
   ]
  },
  {
   "cell_type": "code",
   "execution_count": 3,
   "id": "9e7d9a21",
   "metadata": {},
   "outputs": [
    {
     "data": {
      "text/plain": [
       "Invoice ID                 0\n",
       "Branch                     0\n",
       "City                       0\n",
       "Customer type              0\n",
       "Gender                     0\n",
       "Product line               0\n",
       "Unit price                 0\n",
       "Quantity                   0\n",
       "Tax 5%                     0\n",
       "Sales                      0\n",
       "Date                       0\n",
       "Time                       0\n",
       "Payment                    0\n",
       "cogs                       0\n",
       "gross margin percentage    0\n",
       "gross income               0\n",
       "Rating                     0\n",
       "dtype: int64"
      ]
     },
     "execution_count": 3,
     "metadata": {},
     "output_type": "execute_result"
    }
   ],
   "source": [
    "supermarket_df.isnull().sum()"
   ]
  },
  {
   "cell_type": "markdown",
   "id": "cd0cf927",
   "metadata": {},
   "source": [
    "### Análises Descritivas Gerais\n",
    "\n",
    "Aqui é a parte geral do dataset, mostrando os melhores vendedores, total de vendas por cidade, lucro total e produtos que mais vendeu. \n",
    "\n",
    "A análise é focada para ver os melhores resultados. "
   ]
  },
  {
   "cell_type": "markdown",
   "id": "ea2062c0",
   "metadata": {},
   "source": [
    "### Verificando os vendedores. \n",
    "\n",
    "Ao analisar a quantidade total de vendas por filial, observamos que **Giza** apresentou o melhor desempenho, com **45 vendas**. As filiais **Alex** e **Cairo** ficaram logo atrás, com 44 e 39 vendas, respectivamente.\n",
    "\n",
    "Embora a diferença entre as duas primeiras não seja tão significativa, a filial **Cairo apresenta uma performance inferior**, ficando abaixo das 40 vendas. Com base nisso, **poderia ser interessante estabelecer metas mínimas de vendas por filial**, a fim de equilibrar o desempenho entre as unidades e identificar possíveis gargalos operacionais ou de atendimento.\n"
   ]
  },
  {
   "cell_type": "code",
   "execution_count": 4,
   "id": "b8a9e26d",
   "metadata": {},
   "outputs": [
    {
     "data": {
      "text/html": [
       "<div>\n",
       "<style scoped>\n",
       "    .dataframe tbody tr th:only-of-type {\n",
       "        vertical-align: middle;\n",
       "    }\n",
       "\n",
       "    .dataframe tbody tr th {\n",
       "        vertical-align: top;\n",
       "    }\n",
       "\n",
       "    .dataframe thead th {\n",
       "        text-align: right;\n",
       "    }\n",
       "</style>\n",
       "<table border=\"1\" class=\"dataframe\">\n",
       "  <thead>\n",
       "    <tr style=\"text-align: right;\">\n",
       "      <th></th>\n",
       "      <th>Branch</th>\n",
       "      <th>Quantidade de vendas</th>\n",
       "    </tr>\n",
       "  </thead>\n",
       "  <tbody>\n",
       "    <tr>\n",
       "      <th>2</th>\n",
       "      <td>Giza</td>\n",
       "      <td>45</td>\n",
       "    </tr>\n",
       "    <tr>\n",
       "      <th>0</th>\n",
       "      <td>Alex</td>\n",
       "      <td>44</td>\n",
       "    </tr>\n",
       "    <tr>\n",
       "      <th>1</th>\n",
       "      <td>Cairo</td>\n",
       "      <td>39</td>\n",
       "    </tr>\n",
       "  </tbody>\n",
       "</table>\n",
       "</div>"
      ],
      "text/plain": [
       "  Branch  Quantidade de vendas\n",
       "2   Giza                    45\n",
       "0   Alex                    44\n",
       "1  Cairo                    39"
      ]
     },
     "execution_count": 4,
     "metadata": {},
     "output_type": "execute_result"
    }
   ],
   "source": [
    "# maior vendedor \n",
    "\n",
    "vendedor = supermarket_df.groupby(['Branch', 'Quantity']).size().reset_index(name='Quantidade de vendas')\n",
    "vendedor = vendedor.sort_values(['Branch', 'Quantidade de vendas'], ascending=[True, False])\n",
    "vendedor = vendedor.groupby('Branch').first().reset_index()\n",
    "vendedor = vendedor[['Branch', 'Quantidade de vendas']]\n",
    "vendedor = vendedor.sort_values(by='Quantidade de vendas', ascending=False)\n",
    "vendedor"
   ]
  },
  {
   "cell_type": "markdown",
   "id": "f22c14a6",
   "metadata": {},
   "source": [
    "### Verficando em gráfico\n",
    "\n",
    "**Giza** e **Alex** passando da linha da meta. Embora **Cairo** tenha feito um bom número, está abaixo da linha da meta. "
   ]
  },
  {
   "cell_type": "code",
   "execution_count": 5,
   "id": "80b82031",
   "metadata": {},
   "outputs": [
    {
     "data": {
      "text/plain": [
       "<function matplotlib.pyplot.show(close=None, block=None)>"
      ]
     },
     "execution_count": 5,
     "metadata": {},
     "output_type": "execute_result"
    },
    {
     "data": {
      "image/png": "[encoded data removed]",
      "text/plain": [
       "<Figure size 800x500 with 1 Axes>"
      ]
     },
     "metadata": {},
     "output_type": "display_data"
    }
   ],
   "source": [
    "branches = vendedor['Branch']\n",
    "quantidade = vendedor['Quantidade de vendas']\n",
    "\n",
    "plt.figure(figsize=(8,5))\n",
    "plt.bar(branches, quantidade, color='skyblue')\n",
    "plt.axhline(y=40, color='red', linestyle='--', linewidth=1.5, label='Meta')\n",
    "plt.xlabel('Vendedor')\n",
    "plt.ylabel('Quantidade de Vendas')\n",
    "plt.title('Maior quantidade de vendas por filial')\n",
    "plt.grid(axis='y', linestyle='--', alpha=0.7)\n",
    "plt.legend()\n",
    "plt.tight_layout()\n",
    "plt.show"
   ]
  },
  {
   "cell_type": "markdown",
   "id": "c53be06e",
   "metadata": {},
   "source": [
    "### Total de vendas por cidade e produto\n",
    "\n",
    "Verificando qual cidade teve mais vendas por produto. Se tem o resultado de **Naypytaw** ter uma venda de **1042.65** produtos, sendo eles de **Fashion Accessories**. Note que o segundo colocado, **Yangon** também teve ótimas quantidades de vendas e também sendo **Fashion Accessories**."
   ]
  },
  {
   "cell_type": "code",
   "execution_count": 6,
   "id": "bffb095e",
   "metadata": {},
   "outputs": [
    {
     "data": {
      "text/html": [
       "<div>\n",
       "<style scoped>\n",
       "    .dataframe tbody tr th:only-of-type {\n",
       "        vertical-align: middle;\n",
       "    }\n",
       "\n",
       "    .dataframe tbody tr th {\n",
       "        vertical-align: top;\n",
       "    }\n",
       "\n",
       "    .dataframe thead th {\n",
       "        text-align: right;\n",
       "    }\n",
       "</style>\n",
       "<table border=\"1\" class=\"dataframe\">\n",
       "  <thead>\n",
       "    <tr style=\"text-align: right;\">\n",
       "      <th></th>\n",
       "      <th>City</th>\n",
       "      <th>Product line</th>\n",
       "      <th>Sales</th>\n",
       "    </tr>\n",
       "  </thead>\n",
       "  <tbody>\n",
       "    <tr>\n",
       "      <th>350</th>\n",
       "      <td>Naypyitaw</td>\n",
       "      <td>Fashion accessories</td>\n",
       "      <td>1042.65</td>\n",
       "    </tr>\n",
       "    <tr>\n",
       "      <th>167</th>\n",
       "      <td>Yangon</td>\n",
       "      <td>Fashion accessories</td>\n",
       "      <td>1039.29</td>\n",
       "    </tr>\n",
       "    <tr>\n",
       "      <th>557</th>\n",
       "      <td>Naypyitaw</td>\n",
       "      <td>Food and beverages</td>\n",
       "      <td>1034.46</td>\n",
       "    </tr>\n",
       "    <tr>\n",
       "      <th>699</th>\n",
       "      <td>Naypyitaw</td>\n",
       "      <td>Home and lifestyle</td>\n",
       "      <td>1023.75</td>\n",
       "    </tr>\n",
       "    <tr>\n",
       "      <th>996</th>\n",
       "      <td>Mandalay</td>\n",
       "      <td>Home and lifestyle</td>\n",
       "      <td>1022.49</td>\n",
       "    </tr>\n",
       "    <tr>\n",
       "      <th>...</th>\n",
       "      <td>...</td>\n",
       "      <td>...</td>\n",
       "      <td>...</td>\n",
       "    </tr>\n",
       "    <tr>\n",
       "      <th>402</th>\n",
       "      <td>Naypyitaw</td>\n",
       "      <td>Home and lifestyle</td>\n",
       "      <td>14.68</td>\n",
       "    </tr>\n",
       "    <tr>\n",
       "      <th>443</th>\n",
       "      <td>Naypyitaw</td>\n",
       "      <td>Fashion accessories</td>\n",
       "      <td>13.42</td>\n",
       "    </tr>\n",
       "    <tr>\n",
       "      <th>223</th>\n",
       "      <td>Naypyitaw</td>\n",
       "      <td>Fashion accessories</td>\n",
       "      <td>13.17</td>\n",
       "    </tr>\n",
       "    <tr>\n",
       "      <th>629</th>\n",
       "      <td>Yangon</td>\n",
       "      <td>Fashion accessories</td>\n",
       "      <td>12.69</td>\n",
       "    </tr>\n",
       "    <tr>\n",
       "      <th>822</th>\n",
       "      <td>Naypyitaw</td>\n",
       "      <td>Sports and travel</td>\n",
       "      <td>10.68</td>\n",
       "    </tr>\n",
       "  </tbody>\n",
       "</table>\n",
       "<p>1000 rows × 3 columns</p>\n",
       "</div>"
      ],
      "text/plain": [
       "          City         Product line    Sales\n",
       "350  Naypyitaw  Fashion accessories  1042.65\n",
       "167     Yangon  Fashion accessories  1039.29\n",
       "557  Naypyitaw   Food and beverages  1034.46\n",
       "699  Naypyitaw   Home and lifestyle  1023.75\n",
       "996   Mandalay   Home and lifestyle  1022.49\n",
       "..         ...                  ...      ...\n",
       "402  Naypyitaw   Home and lifestyle    14.68\n",
       "443  Naypyitaw  Fashion accessories    13.42\n",
       "223  Naypyitaw  Fashion accessories    13.17\n",
       "629     Yangon  Fashion accessories    12.69\n",
       "822  Naypyitaw    Sports and travel    10.68\n",
       "\n",
       "[1000 rows x 3 columns]"
      ]
     },
     "execution_count": 6,
     "metadata": {},
     "output_type": "execute_result"
    }
   ],
   "source": [
    "#Total de vendas por cidade, produto e vendas\n",
    "total_vendas = supermarket_df[['City', 'Product line', 'Sales']]\n",
    "total_vendas = total_vendas.sort_values(by='Sales',ascending=False)\n",
    "total_vendas"
   ]
  },
  {
   "cell_type": "markdown",
   "id": "761307e5",
   "metadata": {},
   "source": [
    "### Verificando o Total de vendas por cidade\n",
    "\n",
    "Agora vendo o somatório de vendas e qual cidade se destacou mais. Foi **Naypytaw** com **110568.71** vendas ao todo."
   ]
  },
  {
   "cell_type": "code",
   "execution_count": 7,
   "id": "5c930ee4",
   "metadata": {},
   "outputs": [
    {
     "data": {
      "text/html": [
       "<div>\n",
       "<style scoped>\n",
       "    .dataframe tbody tr th:only-of-type {\n",
       "        vertical-align: middle;\n",
       "    }\n",
       "\n",
       "    .dataframe tbody tr th {\n",
       "        vertical-align: top;\n",
       "    }\n",
       "\n",
       "    .dataframe thead th {\n",
       "        text-align: right;\n",
       "    }\n",
       "</style>\n",
       "<table border=\"1\" class=\"dataframe\">\n",
       "  <thead>\n",
       "    <tr style=\"text-align: right;\">\n",
       "      <th></th>\n",
       "      <th>City</th>\n",
       "      <th>total</th>\n",
       "    </tr>\n",
       "  </thead>\n",
       "  <tbody>\n",
       "    <tr>\n",
       "      <th>1</th>\n",
       "      <td>Naypyitaw</td>\n",
       "      <td>110568.71</td>\n",
       "    </tr>\n",
       "    <tr>\n",
       "      <th>2</th>\n",
       "      <td>Yangon</td>\n",
       "      <td>106200.37</td>\n",
       "    </tr>\n",
       "    <tr>\n",
       "      <th>0</th>\n",
       "      <td>Mandalay</td>\n",
       "      <td>106197.74</td>\n",
       "    </tr>\n",
       "  </tbody>\n",
       "</table>\n",
       "</div>"
      ],
      "text/plain": [
       "        City      total\n",
       "1  Naypyitaw  110568.71\n",
       "2     Yangon  106200.37\n",
       "0   Mandalay  106197.74"
      ]
     },
     "execution_count": 7,
     "metadata": {},
     "output_type": "execute_result"
    }
   ],
   "source": [
    "\n",
    "vendas_por_cidade = supermarket_df.groupby('City')['Sales'].agg(\n",
    "    total = 'sum'\n",
    ").reset_index()\n",
    "\n",
    "vendas_por_cidade['total'] = vendas_por_cidade['total'].round(2)\n",
    "\n",
    "vendas_por_cidade = vendas_por_cidade.sort_values(by='total', ascending=False)\n",
    "\n",
    "vendas_por_cidade"
   ]
  },
  {
   "cell_type": "markdown",
   "id": "416d4195",
   "metadata": {},
   "source": [
    "### Produtos mais vendidos \n",
    "\n",
    "Somando todas as quantidades de vendas dos produtos. O que mais se destacou foi **Fashion Acessories** com **178** quantidades vendidas."
   ]
  },
  {
   "cell_type": "code",
   "execution_count": 8,
   "id": "8ea43177",
   "metadata": {},
   "outputs": [
    {
     "data": {
      "text/plain": [
       "Product line\n",
       "Fashion accessories       178\n",
       "Food and beverages        174\n",
       "Electronic accessories    170\n",
       "Sports and travel         166\n",
       "Home and lifestyle        160\n",
       "Health and beauty         152\n",
       "Name: count, dtype: int64"
      ]
     },
     "execution_count": 8,
     "metadata": {},
     "output_type": "execute_result"
    }
   ],
   "source": [
    "#produtos que mais vendeu\n",
    "supermarket_df['Product line'].value_counts(ascending=False)"
   ]
  },
  {
   "cell_type": "markdown",
   "id": "2aa9829d",
   "metadata": {},
   "source": [
    "### Análises temporais\n",
    "\n",
    "Agora seguiremos para análises voltadas para o tempo e datas. Entendendo quais são as melhores horas e dias."
   ]
  },
  {
   "cell_type": "markdown",
   "id": "4d05804f",
   "metadata": {},
   "source": [
    "Análisando o dia mais vendido com o total completo de vendas, foi em **2/07/19** com um total de **20** vendas."
   ]
  },
  {
   "cell_type": "code",
   "execution_count": 9,
   "id": "33f9cbe8",
   "metadata": {},
   "outputs": [
    {
     "data": {
      "text/plain": [
       "Date\n",
       "2/7/2019     20\n",
       "2/15/2019    19\n",
       "3/2/2019     18\n",
       "1/8/2019     18\n",
       "3/14/2019    18\n",
       "             ..\n",
       "2/1/2019      6\n",
       "1/4/2019      6\n",
       "3/21/2019     6\n",
       "2/21/2019     6\n",
       "3/17/2019     6\n",
       "Name: count, Length: 89, dtype: int64"
      ]
     },
     "execution_count": 9,
     "metadata": {},
     "output_type": "execute_result"
    }
   ],
   "source": [
    "#Dia com mais vendas\n",
    "supermarket_df['Date'].value_counts()"
   ]
  },
  {
   "cell_type": "markdown",
   "id": "f383e71f",
   "metadata": {},
   "source": [
    "Análisando por **cidade** separadamente. Vemos que tem uma distribuição quase igual de quantidade vendidas. **Mandalay** e **Naypytaw** tem **10** vendas em dias próximos, ambos em **janeiro**. Enquanto **Yangon** teve o seu melhor resultado somente em **abril**. "
   ]
  },
  {
   "cell_type": "code",
   "execution_count": 10,
   "id": "668579d0",
   "metadata": {},
   "outputs": [
    {
     "data": {
      "text/html": [
       "<div>\n",
       "<style scoped>\n",
       "    .dataframe tbody tr th:only-of-type {\n",
       "        vertical-align: middle;\n",
       "    }\n",
       "\n",
       "    .dataframe tbody tr th {\n",
       "        vertical-align: top;\n",
       "    }\n",
       "\n",
       "    .dataframe thead th {\n",
       "        text-align: right;\n",
       "    }\n",
       "</style>\n",
       "<table border=\"1\" class=\"dataframe\">\n",
       "  <thead>\n",
       "    <tr style=\"text-align: right;\">\n",
       "      <th></th>\n",
       "      <th>City</th>\n",
       "      <th>Date</th>\n",
       "      <th>Quantidade</th>\n",
       "    </tr>\n",
       "  </thead>\n",
       "  <tbody>\n",
       "    <tr>\n",
       "      <th>0</th>\n",
       "      <td>Mandalay</td>\n",
       "      <td>1/26/2019</td>\n",
       "      <td>10</td>\n",
       "    </tr>\n",
       "    <tr>\n",
       "      <th>1</th>\n",
       "      <td>Naypyitaw</td>\n",
       "      <td>1/23/2019</td>\n",
       "      <td>10</td>\n",
       "    </tr>\n",
       "    <tr>\n",
       "      <th>2</th>\n",
       "      <td>Yangon</td>\n",
       "      <td>3/4/2019</td>\n",
       "      <td>9</td>\n",
       "    </tr>\n",
       "  </tbody>\n",
       "</table>\n",
       "</div>"
      ],
      "text/plain": [
       "        City       Date  Quantidade\n",
       "0   Mandalay  1/26/2019          10\n",
       "1  Naypyitaw  1/23/2019          10\n",
       "2     Yangon   3/4/2019           9"
      ]
     },
     "execution_count": 10,
     "metadata": {},
     "output_type": "execute_result"
    }
   ],
   "source": [
    "#Dia com mais vendas por cidade\n",
    "\n",
    "# Conta o número de vendas por cidade e data\n",
    "vendas_por_cidade_data = supermarket_df.groupby(['City', 'Date']).size().reset_index(name='Quantidade')\n",
    "\n",
    "# Para cada cidade, seleciona o dia com mais vendas\n",
    "dia_mais_vendas_por_cidade = vendas_por_cidade_data.sort_values(['City', 'Quantidade'], ascending=[True, False])\n",
    "dia_mais_vendas_por_cidade = dia_mais_vendas_por_cidade.groupby('City').first().reset_index()\n",
    "\n",
    "dia_mais_vendas_por_cidade\n"
   ]
  },
  {
   "cell_type": "markdown",
   "id": "f3c918d4",
   "metadata": {},
   "source": [
    "### Melhor horário para as vendas\n",
    "\n",
    "O horário que mais se repediu em uma contagem geral foi as **2:42 PM**. Tendo **7 compras neste horário**."
   ]
  },
  {
   "cell_type": "code",
   "execution_count": 11,
   "id": "6daf0ef9",
   "metadata": {},
   "outputs": [
    {
     "data": {
      "text/plain": [
       "Time\n",
       "2:42:00 PM     7\n",
       "7:48:00 PM     7\n",
       "5:38:00 PM     6\n",
       "1:48:00 PM     5\n",
       "10:11:00 AM    5\n",
       "              ..\n",
       "4:27:00 PM     1\n",
       "3:23:00 PM     1\n",
       "6:18:00 PM     1\n",
       "3:17:00 PM     1\n",
       "7:12:00 PM     1\n",
       "Name: count, Length: 506, dtype: int64"
      ]
     },
     "execution_count": 11,
     "metadata": {},
     "output_type": "execute_result"
    }
   ],
   "source": [
    "#Horario com mais vendas\n",
    "supermarket_df['Time'].value_counts()"
   ]
  },
  {
   "cell_type": "markdown",
   "id": "26701128",
   "metadata": {},
   "source": [
    "Verificando o **melhor horário** por **cidade**. Em todas as cidades foram **3** a quantidade de vendas. Os horarios são relativamente próximos, principalmente **Mandalay** e **Naypytaw** , onde os horários são **10:11 AM** e **10:02 AM**, respectivamente. Já em **Yangon** foi no hórario de **11:51 AM**."
   ]
  },
  {
   "cell_type": "code",
   "execution_count": 12,
   "id": "8b0d2693",
   "metadata": {},
   "outputs": [
    {
     "data": {
      "text/html": [
       "<div>\n",
       "<style scoped>\n",
       "    .dataframe tbody tr th:only-of-type {\n",
       "        vertical-align: middle;\n",
       "    }\n",
       "\n",
       "    .dataframe tbody tr th {\n",
       "        vertical-align: top;\n",
       "    }\n",
       "\n",
       "    .dataframe thead th {\n",
       "        text-align: right;\n",
       "    }\n",
       "</style>\n",
       "<table border=\"1\" class=\"dataframe\">\n",
       "  <thead>\n",
       "    <tr style=\"text-align: right;\">\n",
       "      <th></th>\n",
       "      <th>City</th>\n",
       "      <th>Time</th>\n",
       "      <th>Quantidade</th>\n",
       "    </tr>\n",
       "  </thead>\n",
       "  <tbody>\n",
       "    <tr>\n",
       "      <th>0</th>\n",
       "      <td>Mandalay</td>\n",
       "      <td>10:11:00 AM</td>\n",
       "      <td>3</td>\n",
       "    </tr>\n",
       "    <tr>\n",
       "      <th>1</th>\n",
       "      <td>Naypyitaw</td>\n",
       "      <td>10:02:00 AM</td>\n",
       "      <td>3</td>\n",
       "    </tr>\n",
       "    <tr>\n",
       "      <th>2</th>\n",
       "      <td>Yangon</td>\n",
       "      <td>11:51:00 AM</td>\n",
       "      <td>3</td>\n",
       "    </tr>\n",
       "  </tbody>\n",
       "</table>\n",
       "</div>"
      ],
      "text/plain": [
       "        City         Time  Quantidade\n",
       "0   Mandalay  10:11:00 AM           3\n",
       "1  Naypyitaw  10:02:00 AM           3\n",
       "2     Yangon  11:51:00 AM           3"
      ]
     },
     "execution_count": 12,
     "metadata": {},
     "output_type": "execute_result"
    }
   ],
   "source": [
    "#horario com mais vendas por cidade\n",
    "\n",
    "horario_por_cidade = supermarket_df.groupby(['City', 'Time']).size().reset_index(name='Quantidade')\n",
    "horario_por_cidade = horario_por_cidade.sort_values(['City', 'Quantidade'], ascending=[True, False])\n",
    "horario_por_cidade = horario_por_cidade.groupby('City').first().reset_index()\n",
    "horario_por_cidade"
   ]
  },
  {
   "cell_type": "markdown",
   "id": "c627f800",
   "metadata": {},
   "source": [
    "### Métricas financeiras\n",
    "\n",
    "Aqui onde verificamos a parte financeira. Tendo seus lucros, média de gross, o cogs e analisando a taxa."
   ]
  },
  {
   "cell_type": "markdown",
   "id": "2d2eb930",
   "metadata": {},
   "source": [
    "O **Lucro Bruto Total** foi de **R$15.379,52**."
   ]
  },
  {
   "cell_type": "code",
   "execution_count": 13,
   "id": "8c383aec",
   "metadata": {},
   "outputs": [
    {
     "data": {
      "text/plain": [
       "np.float64(15379.51)"
      ]
     },
     "execution_count": 13,
     "metadata": {},
     "output_type": "execute_result"
    }
   ],
   "source": [
    "#Lucro Bruto total\n",
    "lucro_bruto_total = supermarket_df['gross income'].sum()\n",
    "lucro_bruto_total"
   ]
  },
  {
   "cell_type": "markdown",
   "id": "92e7e2e0",
   "metadata": {},
   "source": [
    "A **média de margem bruta** foi de **R$4,76**."
   ]
  },
  {
   "cell_type": "code",
   "execution_count": 14,
   "id": "ff652da2",
   "metadata": {},
   "outputs": [
    {
     "data": {
      "text/plain": [
       "np.float64(4.76)"
      ]
     },
     "execution_count": 14,
     "metadata": {},
     "output_type": "execute_result"
    }
   ],
   "source": [
    "#média de margem bruta\n",
    "\n",
    "supermarket_df['gross margin percentage'].mean()"
   ]
  },
  {
   "cell_type": "markdown",
   "id": "caa17d9f",
   "metadata": {},
   "source": [
    "O **COGs** médio foi de **R$307,58**."
   ]
  },
  {
   "cell_type": "code",
   "execution_count": 15,
   "id": "c40e7177",
   "metadata": {},
   "outputs": [
    {
     "data": {
      "text/plain": [
       "np.float64(307.58738)"
      ]
     },
     "execution_count": 15,
     "metadata": {},
     "output_type": "execute_result"
    }
   ],
   "source": [
    "#COGs médio\n",
    "\n",
    "supermarket_df['cogs'].mean()"
   ]
  },
  {
   "cell_type": "markdown",
   "id": "c70a7823",
   "metadata": {},
   "source": [
    "O valor médio da **taxa de 5%** é de **R$15,37**."
   ]
  },
  {
   "cell_type": "code",
   "execution_count": 16,
   "id": "9d3fc110",
   "metadata": {},
   "outputs": [
    {
     "data": {
      "text/plain": [
       "np.float64(15.37951)"
      ]
     },
     "execution_count": 16,
     "metadata": {},
     "output_type": "execute_result"
    }
   ],
   "source": [
    "#média taxa\n",
    "\n",
    "supermarket_df['Tax 5%'].mean()"
   ]
  },
  {
   "cell_type": "markdown",
   "id": "ada9bca1",
   "metadata": {},
   "source": [
    "O **valor máximo de taxa pago** foi de **R$49,65**. Repare que quanto maior o valor do **Preço Unico** maior será o **valor da taxa**."
   ]
  },
  {
   "cell_type": "code",
   "execution_count": 17,
   "id": "5b9219b9",
   "metadata": {},
   "outputs": [
    {
     "data": {
      "text/html": [
       "<div>\n",
       "<style scoped>\n",
       "    .dataframe tbody tr th:only-of-type {\n",
       "        vertical-align: middle;\n",
       "    }\n",
       "\n",
       "    .dataframe tbody tr th {\n",
       "        vertical-align: top;\n",
       "    }\n",
       "\n",
       "    .dataframe thead th {\n",
       "        text-align: right;\n",
       "    }\n",
       "</style>\n",
       "<table border=\"1\" class=\"dataframe\">\n",
       "  <thead>\n",
       "    <tr style=\"text-align: right;\">\n",
       "      <th></th>\n",
       "      <th>Unit price</th>\n",
       "      <th>Quantity</th>\n",
       "      <th>Tax 5%</th>\n",
       "    </tr>\n",
       "  </thead>\n",
       "  <tbody>\n",
       "    <tr>\n",
       "      <th>350</th>\n",
       "      <td>99.30</td>\n",
       "      <td>10</td>\n",
       "      <td>49.65</td>\n",
       "    </tr>\n",
       "    <tr>\n",
       "      <th>167</th>\n",
       "      <td>98.98</td>\n",
       "      <td>10</td>\n",
       "      <td>49.49</td>\n",
       "    </tr>\n",
       "    <tr>\n",
       "      <th>557</th>\n",
       "      <td>98.52</td>\n",
       "      <td>10</td>\n",
       "      <td>49.26</td>\n",
       "    </tr>\n",
       "    <tr>\n",
       "      <th>699</th>\n",
       "      <td>97.50</td>\n",
       "      <td>10</td>\n",
       "      <td>48.75</td>\n",
       "    </tr>\n",
       "    <tr>\n",
       "      <th>996</th>\n",
       "      <td>97.38</td>\n",
       "      <td>10</td>\n",
       "      <td>48.69</td>\n",
       "    </tr>\n",
       "    <tr>\n",
       "      <th>...</th>\n",
       "      <td>...</td>\n",
       "      <td>...</td>\n",
       "      <td>...</td>\n",
       "    </tr>\n",
       "    <tr>\n",
       "      <th>402</th>\n",
       "      <td>13.98</td>\n",
       "      <td>1</td>\n",
       "      <td>0.70</td>\n",
       "    </tr>\n",
       "    <tr>\n",
       "      <th>443</th>\n",
       "      <td>12.78</td>\n",
       "      <td>1</td>\n",
       "      <td>0.64</td>\n",
       "    </tr>\n",
       "    <tr>\n",
       "      <th>223</th>\n",
       "      <td>12.54</td>\n",
       "      <td>1</td>\n",
       "      <td>0.63</td>\n",
       "    </tr>\n",
       "    <tr>\n",
       "      <th>629</th>\n",
       "      <td>12.09</td>\n",
       "      <td>1</td>\n",
       "      <td>0.60</td>\n",
       "    </tr>\n",
       "    <tr>\n",
       "      <th>822</th>\n",
       "      <td>10.17</td>\n",
       "      <td>1</td>\n",
       "      <td>0.51</td>\n",
       "    </tr>\n",
       "  </tbody>\n",
       "</table>\n",
       "<p>1000 rows × 3 columns</p>\n",
       "</div>"
      ],
      "text/plain": [
       "     Unit price  Quantity  Tax 5%\n",
       "350       99.30        10   49.65\n",
       "167       98.98        10   49.49\n",
       "557       98.52        10   49.26\n",
       "699       97.50        10   48.75\n",
       "996       97.38        10   48.69\n",
       "..          ...       ...     ...\n",
       "402       13.98         1    0.70\n",
       "443       12.78         1    0.64\n",
       "223       12.54         1    0.63\n",
       "629       12.09         1    0.60\n",
       "822       10.17         1    0.51\n",
       "\n",
       "[1000 rows x 3 columns]"
      ]
     },
     "execution_count": 17,
     "metadata": {},
     "output_type": "execute_result"
    }
   ],
   "source": [
    "#maior taxa\n",
    "\n",
    "maior_taxa = supermarket_df[['Unit price', 'Quantity', 'Tax 5%']].sort_values(by='Tax 5%', ascending=False)\n",
    "maior_taxa"
   ]
  },
  {
   "cell_type": "markdown",
   "id": "70bb3699",
   "metadata": {},
   "source": [
    "### Análise de perfil\n",
    "\n",
    "Última etapa do Notebook. A partir daqui será a análise dos clientes, identificando um potencial comprador."
   ]
  },
  {
   "cell_type": "markdown",
   "id": "65ed143b",
   "metadata": {},
   "source": [
    "Existem dois tipos de clientes no supermarket. **565 deles são membros**, mais da metade, e **435 pessoas são clientes comuns**. Os **menbros** são **clientes fieis**, seria de extrema importância dar uma vantagem a eles."
   ]
  },
  {
   "cell_type": "code",
   "execution_count": 18,
   "id": "687cadfc",
   "metadata": {},
   "outputs": [
    {
     "data": {
      "text/plain": [
       "Customer type\n",
       "Member    565\n",
       "Normal    435\n",
       "Name: count, dtype: int64"
      ]
     },
     "execution_count": 18,
     "metadata": {},
     "output_type": "execute_result"
    }
   ],
   "source": [
    "#vendas por tipo de cliente\n",
    "supermarket_df['Customer type'].value_counts()"
   ]
  },
  {
   "cell_type": "markdown",
   "id": "8994bdd4",
   "metadata": {},
   "source": [
    "O genêro principal dos clientes é composto pelo **feminino**. Mais da mentade dos clientes são compostos por **571 mulheres**, enquanto o público **masculino tem 429 pessoas**."
   ]
  },
  {
   "cell_type": "code",
   "execution_count": 19,
   "id": "1d2fff84",
   "metadata": {},
   "outputs": [
    {
     "data": {
      "text/plain": [
       "Gender\n",
       "Female    571\n",
       "Male      429\n",
       "Name: count, dtype: int64"
      ]
     },
     "execution_count": 19,
     "metadata": {},
     "output_type": "execute_result"
    }
   ],
   "source": [
    "#genero do cliente\n",
    "supermarket_df['Gender'].value_counts()"
   ]
  },
  {
   "cell_type": "markdown",
   "id": "a8aabf2c",
   "metadata": {},
   "source": [
    "A **principal** forma de pagamento de seus clientes é por meio da **carteira digital**, se tem **345 pessoas** a utilizando. O **Dinheiro** vem logo atrás, com *344 pessoas**, bem próximo ao primeiro colado. E por último, com **311 pessas** tem o **cartão de crédito** como opção."
   ]
  },
  {
   "cell_type": "code",
   "execution_count": 20,
   "id": "fb4944b4",
   "metadata": {},
   "outputs": [
    {
     "data": {
      "text/plain": [
       "Payment\n",
       "Ewallet        345\n",
       "Cash           344\n",
       "Credit card    311\n",
       "Name: count, dtype: int64"
      ]
     },
     "execution_count": 20,
     "metadata": {},
     "output_type": "execute_result"
    }
   ],
   "source": [
    "#forma de pagamento\n",
    "supermarket_df['Payment'].value_counts()"
   ]
  },
  {
   "cell_type": "markdown",
   "id": "3574214e",
   "metadata": {},
   "source": [
    "A **Média de notas dos clientes** é relativamente baixa. A média tem **6.97/10 como nota**, está quase no **7.0**, recomendo agradar mais um pouco os **clientes fieis** para ter uma nota mais alta e chamativa."
   ]
  },
  {
   "cell_type": "code",
   "execution_count": 21,
   "id": "9bb7c8a1",
   "metadata": {},
   "outputs": [
    {
     "data": {
      "text/plain": [
       "np.float64(6.97)"
      ]
     },
     "execution_count": 21,
     "metadata": {},
     "output_type": "execute_result"
    }
   ],
   "source": [
    "#média notas dos clientes\n",
    "supermarket_df['Rating'].mean().round(2)"
   ]
  },
  {
   "cell_type": "markdown",
   "id": "f06b1eae",
   "metadata": {},
   "source": [
    "A **média por cidade** está **satisfatória**. A maioria acima de **7,0/10** na média, exceto **Mandalay** onde a nota está a baixo da média. Recomendável dar uma investida na loja, ela está com **6,82/10**, falta um pouco para alcançar a média."
   ]
  },
  {
   "cell_type": "code",
   "execution_count": 22,
   "id": "a0597256",
   "metadata": {},
   "outputs": [
    {
     "data": {
      "text/html": [
       "<div>\n",
       "<style scoped>\n",
       "    .dataframe tbody tr th:only-of-type {\n",
       "        vertical-align: middle;\n",
       "    }\n",
       "\n",
       "    .dataframe tbody tr th {\n",
       "        vertical-align: top;\n",
       "    }\n",
       "\n",
       "    .dataframe thead th {\n",
       "        text-align: right;\n",
       "    }\n",
       "</style>\n",
       "<table border=\"1\" class=\"dataframe\">\n",
       "  <thead>\n",
       "    <tr style=\"text-align: right;\">\n",
       "      <th></th>\n",
       "      <th>City</th>\n",
       "      <th>maior_nota</th>\n",
       "      <th>menor_nota</th>\n",
       "      <th>media</th>\n",
       "    </tr>\n",
       "  </thead>\n",
       "  <tbody>\n",
       "    <tr>\n",
       "      <th>0</th>\n",
       "      <td>Mandalay</td>\n",
       "      <td>10.0</td>\n",
       "      <td>4.0</td>\n",
       "      <td>6.82</td>\n",
       "    </tr>\n",
       "    <tr>\n",
       "      <th>1</th>\n",
       "      <td>Naypyitaw</td>\n",
       "      <td>10.0</td>\n",
       "      <td>4.0</td>\n",
       "      <td>7.07</td>\n",
       "    </tr>\n",
       "    <tr>\n",
       "      <th>2</th>\n",
       "      <td>Yangon</td>\n",
       "      <td>10.0</td>\n",
       "      <td>4.0</td>\n",
       "      <td>7.03</td>\n",
       "    </tr>\n",
       "  </tbody>\n",
       "</table>\n",
       "</div>"
      ],
      "text/plain": [
       "        City  maior_nota  menor_nota  media\n",
       "0   Mandalay        10.0         4.0   6.82\n",
       "1  Naypyitaw        10.0         4.0   7.07\n",
       "2     Yangon        10.0         4.0   7.03"
      ]
     },
     "execution_count": 22,
     "metadata": {},
     "output_type": "execute_result"
    }
   ],
   "source": [
    "#média por cidade \n",
    "notas_cidade = supermarket_df.groupby('City')['Rating'].agg(\n",
    "    maior_nota ='max',\n",
    "    menor_nota ='min',\n",
    "    media ='mean'\n",
    ").reset_index()\n",
    "\n",
    "notas_cidade['media'] = notas_cidade['media'].round(2)\n",
    "\n",
    "notas_cidade"
   ]
  },
  {
   "cell_type": "code",
   "execution_count": null,
   "id": "9a24898d",
   "metadata": {},
   "outputs": [],
   "source": []
  }
 ],
 "metadata": {
  "kernelspec": {
   "display_name": "Python 3",
   "language": "python",
   "name": "python3"
  },
  "language_info": {
   "codemirror_mode": {
    "name": "ipython",
    "version": 3
   },
   "file_extension": ".py",
   "mimetype": "text/x-python",
   "name": "python",
   "nbconvert_exporter": "python",
   "pygments_lexer": "ipython3",
   "version": "3.13.1"
  }
 },
 "nbformat": 4,
 "nbformat_minor": 5
}
